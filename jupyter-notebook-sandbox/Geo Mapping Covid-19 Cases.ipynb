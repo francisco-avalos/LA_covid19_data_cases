{
 "cells": [
  {
   "cell_type": "code",
   "execution_count": 2,
   "metadata": {},
   "outputs": [
    {
     "name": "stdout",
     "output_type": "stream",
     "text": [
      "\u001b[31mEDA - RPI (Point of Interest).ipynb\u001b[m\u001b[m     Geo Mapping Covid-19 Cases.ipynb\r\n",
      "Ending_Dec20_2020_day_delta.csv         Sandbox - Adding POI to usc-model.ipynb\r\n"
     ]
    }
   ],
   "source": [
    "!ls"
   ]
  },
  {
   "cell_type": "code",
   "execution_count": 5,
   "metadata": {},
   "outputs": [],
   "source": [
    "import pandas as pd\n",
    "from keplergl import KeplerGl"
   ]
  },
  {
   "cell_type": "code",
   "execution_count": 6,
   "metadata": {},
   "outputs": [
    {
     "data": {
      "text/html": [
       "<div>\n",
       "<style scoped>\n",
       "    .dataframe tbody tr th:only-of-type {\n",
       "        vertical-align: middle;\n",
       "    }\n",
       "\n",
       "    .dataframe tbody tr th {\n",
       "        vertical-align: top;\n",
       "    }\n",
       "\n",
       "    .dataframe thead th {\n",
       "        text-align: right;\n",
       "    }\n",
       "</style>\n",
       "<table border=\"1\" class=\"dataframe\">\n",
       "  <thead>\n",
       "    <tr style=\"text-align: right;\">\n",
       "      <th></th>\n",
       "      <th>Time Stamp</th>\n",
       "      <th>Region</th>\n",
       "      <th>Latitude</th>\n",
       "      <th>Longitude</th>\n",
       "      <th>Number of cases</th>\n",
       "    </tr>\n",
       "  </thead>\n",
       "  <tbody>\n",
       "    <tr>\n",
       "      <th>0</th>\n",
       "      <td>12-20-2020</td>\n",
       "      <td>Clearwater at South Bay</td>\n",
       "      <td>33.824079</td>\n",
       "      <td>-118.343201</td>\n",
       "      <td>29</td>\n",
       "    </tr>\n",
       "    <tr>\n",
       "      <th>1</th>\n",
       "      <td>12-20-2020</td>\n",
       "      <td>Home Depot - Hyde Park #1039</td>\n",
       "      <td>34.199621</td>\n",
       "      <td>-118.383808</td>\n",
       "      <td>9</td>\n",
       "    </tr>\n",
       "    <tr>\n",
       "      <th>2</th>\n",
       "      <td>12-20-2020</td>\n",
       "      <td>LAPD Newton Community Police Station</td>\n",
       "      <td>34.119495</td>\n",
       "      <td>-118.249796</td>\n",
       "      <td>8</td>\n",
       "    </tr>\n",
       "    <tr>\n",
       "      <th>3</th>\n",
       "      <td>12-20-2020</td>\n",
       "      <td>Vallarta Supermarket #25</td>\n",
       "      <td>34.027841</td>\n",
       "      <td>-118.200172</td>\n",
       "      <td>7</td>\n",
       "    </tr>\n",
       "    <tr>\n",
       "      <th>4</th>\n",
       "      <td>12-20-2020</td>\n",
       "      <td>Mercury Air Cargo Building 216</td>\n",
       "      <td>33.932382</td>\n",
       "      <td>-118.390343</td>\n",
       "      <td>6</td>\n",
       "    </tr>\n",
       "  </tbody>\n",
       "</table>\n",
       "</div>"
      ],
      "text/plain": [
       "   Time Stamp                                Region   Latitude   Longitude  \\\n",
       "0  12-20-2020               Clearwater at South Bay  33.824079 -118.343201   \n",
       "1  12-20-2020          Home Depot - Hyde Park #1039  34.199621 -118.383808   \n",
       "2  12-20-2020  LAPD Newton Community Police Station  34.119495 -118.249796   \n",
       "3  12-20-2020              Vallarta Supermarket #25  34.027841 -118.200172   \n",
       "4  12-20-2020        Mercury Air Cargo Building 216  33.932382 -118.390343   \n",
       "\n",
       "   Number of cases  \n",
       "0               29  \n",
       "1                9  \n",
       "2                8  \n",
       "3                7  \n",
       "4                6  "
      ]
     },
     "execution_count": 6,
     "metadata": {},
     "output_type": "execute_result"
    }
   ],
   "source": [
    "dod_df = pd.read_csv('Ending_Dec20_2020_day_delta.csv')\n",
    "dod_df.head()"
   ]
  },
  {
   "cell_type": "code",
   "execution_count": 7,
   "metadata": {},
   "outputs": [
    {
     "name": "stdout",
     "output_type": "stream",
     "text": [
      "User Guide: https://docs.kepler.gl/docs/keplergl-jupyter\n"
     ]
    },
    {
     "data": {
      "application/vnd.jupyter.widget-view+json": {
       "model_id": "1649c44b048d494dacd6da07ee86bbe5",
       "version_major": 2,
       "version_minor": 0
      },
      "text/plain": [
       "KeplerGl(height=600)"
      ]
     },
     "metadata": {},
     "output_type": "display_data"
    }
   ],
   "source": [
    "df1_map = KeplerGl(height=600, width=800)\n",
    "df1_map"
   ]
  },
  {
   "cell_type": "code",
   "execution_count": 8,
   "metadata": {},
   "outputs": [],
   "source": [
    "df1_map.add_data(data=dod_df, name='POI Cases in Los Angeles')"
   ]
  },
  {
   "cell_type": "code",
   "execution_count": 10,
   "metadata": {},
   "outputs": [
    {
     "name": "stdout",
     "output_type": "stream",
     "text": [
      "Map saved to Day_Ending_December_20_2020.html!\n"
     ]
    }
   ],
   "source": [
    "df1_map.save_to_html(file_name='Day_Ending_December_20_2020.html')"
   ]
  },
  {
   "cell_type": "code",
   "execution_count": null,
   "metadata": {},
   "outputs": [],
   "source": []
  }
 ],
 "metadata": {
  "hide_input": false,
  "kernelspec": {
   "display_name": "Python [conda env:la-covid19-env] *",
   "language": "python",
   "name": "conda-env-la-covid19-env-py"
  },
  "language_info": {
   "codemirror_mode": {
    "name": "ipython",
    "version": 3
   },
   "file_extension": ".py",
   "mimetype": "text/x-python",
   "name": "python",
   "nbconvert_exporter": "python",
   "pygments_lexer": "ipython3",
   "version": "3.7.7"
  }
 },
 "nbformat": 4,
 "nbformat_minor": 2
}
