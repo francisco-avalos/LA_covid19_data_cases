{
 "cells": [
  {
   "cell_type": "code",
   "execution_count": 11,
   "metadata": {},
   "outputs": [],
   "source": [
    "import os\n",
    "import pandas as pd"
   ]
  },
  {
   "cell_type": "code",
   "execution_count": 12,
   "metadata": {},
   "outputs": [],
   "source": [
    "os.chdir('/Volumes/USB30FD/LA-HEALTH-COVID-Data/data_10-03-2020/')\n",
    "RCAC_oct0220_df = pd.read_csv('Residual_Congregate_and_Acute_Care_Settings.csv')"
   ]
  },
  {
   "cell_type": "code",
   "execution_count": 13,
   "metadata": {},
   "outputs": [],
   "source": [
    "os.chdir('/Volumes/USB30FD/LA-HEALTH-COVID-Data/data_10-02-2020/')\n",
    "RCAC_oct0120_df = pd.read_csv('Residual_Congregate_and_Acute_Care_Settings.csv')"
   ]
  },
  {
   "cell_type": "code",
   "execution_count": null,
   "metadata": {},
   "outputs": [],
   "source": []
  },
  {
   "cell_type": "code",
   "execution_count": 16,
   "metadata": {},
   "outputs": [
    {
     "data": {
      "text/plain": [
       "(205, 5)"
      ]
     },
     "execution_count": 16,
     "metadata": {},
     "output_type": "execute_result"
    }
   ],
   "source": [
    "RCAC_oct0120_df.shape"
   ]
  },
  {
   "cell_type": "code",
   "execution_count": 30,
   "metadata": {},
   "outputs": [
    {
     "data": {
      "text/plain": [
       "205"
      ]
     },
     "execution_count": 30,
     "metadata": {},
     "output_type": "execute_result"
    }
   ],
   "source": [
    "# RCAC_oct0120_df.groupby('location_name').count().sort_values('city_name', ascending=False)\n",
    "len(RCAC_oct0120_df['location_name'].unique())"
   ]
  },
  {
   "cell_type": "code",
   "execution_count": 17,
   "metadata": {},
   "outputs": [
    {
     "data": {
      "text/html": [
       "<div>\n",
       "<style scoped>\n",
       "    .dataframe tbody tr th:only-of-type {\n",
       "        vertical-align: middle;\n",
       "    }\n",
       "\n",
       "    .dataframe tbody tr th {\n",
       "        vertical-align: top;\n",
       "    }\n",
       "\n",
       "    .dataframe thead th {\n",
       "        text-align: right;\n",
       "    }\n",
       "</style>\n",
       "<table border=\"1\" class=\"dataframe\">\n",
       "  <thead>\n",
       "    <tr style=\"text-align: right;\">\n",
       "      <th></th>\n",
       "      <th>location_name</th>\n",
       "      <th>city_name</th>\n",
       "      <th>number_of_confirmed_staff</th>\n",
       "      <th>number_of_confirmed_residents</th>\n",
       "      <th>total_deaths</th>\n",
       "    </tr>\n",
       "  </thead>\n",
       "  <tbody>\n",
       "    <tr>\n",
       "      <th>0</th>\n",
       "      <td>A and M Armour Home Care</td>\n",
       "      <td>Pomona, CA</td>\n",
       "      <td>7</td>\n",
       "      <td>4</td>\n",
       "      <td>0</td>\n",
       "    </tr>\n",
       "    <tr>\n",
       "      <th>1</th>\n",
       "      <td>AAA Royal Senior Living</td>\n",
       "      <td>Tarzana, CA</td>\n",
       "      <td>0</td>\n",
       "      <td>1</td>\n",
       "      <td>1</td>\n",
       "    </tr>\n",
       "    <tr>\n",
       "      <th>2</th>\n",
       "      <td>Affinity Healthcare Center</td>\n",
       "      <td>Paramount, CA</td>\n",
       "      <td>6</td>\n",
       "      <td>6</td>\n",
       "      <td>0</td>\n",
       "    </tr>\n",
       "    <tr>\n",
       "      <th>3</th>\n",
       "      <td>Alameda Care Center</td>\n",
       "      <td>Burbank, CA</td>\n",
       "      <td>2</td>\n",
       "      <td>4</td>\n",
       "      <td>0</td>\n",
       "    </tr>\n",
       "    <tr>\n",
       "      <th>4</th>\n",
       "      <td>Alcott Rehabilitation Hospital</td>\n",
       "      <td>Los Angeles, CA</td>\n",
       "      <td>10</td>\n",
       "      <td>22</td>\n",
       "      <td>3</td>\n",
       "    </tr>\n",
       "  </tbody>\n",
       "</table>\n",
       "</div>"
      ],
      "text/plain": [
       "                    location_name        city_name  number_of_confirmed_staff  \\\n",
       "0        A and M Armour Home Care       Pomona, CA                          7   \n",
       "1         AAA Royal Senior Living      Tarzana, CA                          0   \n",
       "2      Affinity Healthcare Center    Paramount, CA                          6   \n",
       "3             Alameda Care Center      Burbank, CA                          2   \n",
       "4  Alcott Rehabilitation Hospital  Los Angeles, CA                         10   \n",
       "\n",
       "   number_of_confirmed_residents  total_deaths  \n",
       "0                              4             0  \n",
       "1                              1             1  \n",
       "2                              6             0  \n",
       "3                              4             0  \n",
       "4                             22             3  "
      ]
     },
     "execution_count": 17,
     "metadata": {},
     "output_type": "execute_result"
    }
   ],
   "source": [
    "RCAC_oct0120_df.head()"
   ]
  },
  {
   "cell_type": "code",
   "execution_count": 31,
   "metadata": {},
   "outputs": [
    {
     "data": {
      "text/plain": [
       "(197, 5)"
      ]
     },
     "execution_count": 31,
     "metadata": {},
     "output_type": "execute_result"
    }
   ],
   "source": [
    "RCAC_oct0220_df.shape"
   ]
  },
  {
   "cell_type": "code",
   "execution_count": 33,
   "metadata": {},
   "outputs": [
    {
     "data": {
      "text/plain": [
       "197"
      ]
     },
     "execution_count": 33,
     "metadata": {},
     "output_type": "execute_result"
    }
   ],
   "source": [
    "# RCAC_oct0220_df.groupby('location_name').count().sort_values('city_name', ascending=False)\n",
    "len(RCAC_oct0220_df['location_name'].unique())\n"
   ]
  },
  {
   "cell_type": "code",
   "execution_count": null,
   "metadata": {},
   "outputs": [],
   "source": []
  },
  {
   "cell_type": "code",
   "execution_count": 35,
   "metadata": {},
   "outputs": [],
   "source": [
    "oct1_oct2_df = pd.merge(RCAC_oct0120_df, RCAC_oct0220_df, on=['location_name', 'city_name'], how='inner')\n"
   ]
  },
  {
   "cell_type": "code",
   "execution_count": 36,
   "metadata": {},
   "outputs": [
    {
     "data": {
      "text/html": [
       "<div>\n",
       "<style scoped>\n",
       "    .dataframe tbody tr th:only-of-type {\n",
       "        vertical-align: middle;\n",
       "    }\n",
       "\n",
       "    .dataframe tbody tr th {\n",
       "        vertical-align: top;\n",
       "    }\n",
       "\n",
       "    .dataframe thead th {\n",
       "        text-align: right;\n",
       "    }\n",
       "</style>\n",
       "<table border=\"1\" class=\"dataframe\">\n",
       "  <thead>\n",
       "    <tr style=\"text-align: right;\">\n",
       "      <th></th>\n",
       "      <th>location_name</th>\n",
       "      <th>city_name</th>\n",
       "      <th>number_of_confirmed_staff_x</th>\n",
       "      <th>number_of_confirmed_residents_x</th>\n",
       "      <th>total_deaths_x</th>\n",
       "      <th>number_of_confirmed_staff_y</th>\n",
       "      <th>number_of_confirmed_residents_y</th>\n",
       "      <th>total_deaths_y</th>\n",
       "    </tr>\n",
       "  </thead>\n",
       "  <tbody>\n",
       "    <tr>\n",
       "      <th>0</th>\n",
       "      <td>A and M Armour Home Care</td>\n",
       "      <td>Pomona, CA</td>\n",
       "      <td>7</td>\n",
       "      <td>4</td>\n",
       "      <td>0</td>\n",
       "      <td>7</td>\n",
       "      <td>4</td>\n",
       "      <td>0</td>\n",
       "    </tr>\n",
       "    <tr>\n",
       "      <th>1</th>\n",
       "      <td>Affinity Healthcare Center</td>\n",
       "      <td>Paramount, CA</td>\n",
       "      <td>6</td>\n",
       "      <td>6</td>\n",
       "      <td>0</td>\n",
       "      <td>6</td>\n",
       "      <td>6</td>\n",
       "      <td>0</td>\n",
       "    </tr>\n",
       "    <tr>\n",
       "      <th>2</th>\n",
       "      <td>Alameda Care Center</td>\n",
       "      <td>Burbank, CA</td>\n",
       "      <td>2</td>\n",
       "      <td>4</td>\n",
       "      <td>0</td>\n",
       "      <td>2</td>\n",
       "      <td>4</td>\n",
       "      <td>0</td>\n",
       "    </tr>\n",
       "    <tr>\n",
       "      <th>3</th>\n",
       "      <td>Alcott Rehabilitation Hospital</td>\n",
       "      <td>Los Angeles, CA</td>\n",
       "      <td>10</td>\n",
       "      <td>22</td>\n",
       "      <td>3</td>\n",
       "      <td>10</td>\n",
       "      <td>22</td>\n",
       "      <td>3</td>\n",
       "    </tr>\n",
       "    <tr>\n",
       "      <th>4</th>\n",
       "      <td>Alhambra Healthcare &amp; Wellness Centre, LP</td>\n",
       "      <td>Alhambra, CA</td>\n",
       "      <td>1</td>\n",
       "      <td>3</td>\n",
       "      <td>0</td>\n",
       "      <td>1</td>\n",
       "      <td>3</td>\n",
       "      <td>0</td>\n",
       "    </tr>\n",
       "  </tbody>\n",
       "</table>\n",
       "</div>"
      ],
      "text/plain": [
       "                               location_name        city_name  \\\n",
       "0                   A and M Armour Home Care       Pomona, CA   \n",
       "1                 Affinity Healthcare Center    Paramount, CA   \n",
       "2                        Alameda Care Center      Burbank, CA   \n",
       "3             Alcott Rehabilitation Hospital  Los Angeles, CA   \n",
       "4  Alhambra Healthcare & Wellness Centre, LP     Alhambra, CA   \n",
       "\n",
       "   number_of_confirmed_staff_x  number_of_confirmed_residents_x  \\\n",
       "0                            7                                4   \n",
       "1                            6                                6   \n",
       "2                            2                                4   \n",
       "3                           10                               22   \n",
       "4                            1                                3   \n",
       "\n",
       "   total_deaths_x  number_of_confirmed_staff_y  \\\n",
       "0               0                            7   \n",
       "1               0                            6   \n",
       "2               0                            2   \n",
       "3               3                           10   \n",
       "4               0                            1   \n",
       "\n",
       "   number_of_confirmed_residents_y  total_deaths_y  \n",
       "0                                4               0  \n",
       "1                                6               0  \n",
       "2                                4               0  \n",
       "3                               22               3  \n",
       "4                                3               0  "
      ]
     },
     "execution_count": 36,
     "metadata": {},
     "output_type": "execute_result"
    }
   ],
   "source": [
    "oct1_oct2_df.head()"
   ]
  },
  {
   "cell_type": "code",
   "execution_count": null,
   "metadata": {},
   "outputs": [],
   "source": []
  }
 ],
 "metadata": {
  "hide_input": false,
  "kernelspec": {
   "display_name": "Python [conda env:la-covid19-env] *",
   "language": "python",
   "name": "conda-env-la-covid19-env-py"
  },
  "language_info": {
   "codemirror_mode": {
    "name": "ipython",
    "version": 3
   },
   "file_extension": ".py",
   "mimetype": "text/x-python",
   "name": "python",
   "nbconvert_exporter": "python",
   "pygments_lexer": "ipython3",
   "version": "3.7.7"
  }
 },
 "nbformat": 4,
 "nbformat_minor": 2
}
